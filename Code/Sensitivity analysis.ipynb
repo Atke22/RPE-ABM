{
 "cells": [
  {
   "cell_type": "markdown",
   "metadata": {},
   "source": [
    "# OFAT SA"
   ]
  },
  {
   "cell_type": "code",
   "execution_count": 1,
   "metadata": {},
   "outputs": [
    {
     "name": "stdout",
     "output_type": "stream",
     "text": [
      "1000 3 1 0.3 0.025 0.01 4\n",
      "\n"
     ]
    },
    {
     "name": "stderr",
     "output_type": "stream",
     "text": [
      "\r",
      "0it [00:00, ?it/s]"
     ]
    },
    {
     "name": "stdout",
     "output_type": "stream",
     "text": [
      "100 2 1 0.0 0.0 0.0 0\n",
      "\n"
     ]
    },
    {
     "name": "stderr",
     "output_type": "stream",
     "text": [
      "\r",
      "1it [00:00,  1.08it/s]"
     ]
    },
    {
     "name": "stdout",
     "output_type": "stream",
     "text": [
      "100 2 1 0.0 0.0 0.0 0\n",
      "\n"
     ]
    },
    {
     "name": "stderr",
     "output_type": "stream",
     "text": [
      "\r",
      "2it [00:01,  1.07it/s]"
     ]
    },
    {
     "name": "stdout",
     "output_type": "stream",
     "text": [
      "100 2 1 0.0 0.0 0.0 0\n",
      "\n"
     ]
    },
    {
     "name": "stderr",
     "output_type": "stream",
     "text": [
      "\r",
      "3it [00:02,  1.08it/s]"
     ]
    },
    {
     "name": "stdout",
     "output_type": "stream",
     "text": [
      "100 2 1 0.0 0.0 0.0 0\n",
      "\n"
     ]
    },
    {
     "name": "stderr",
     "output_type": "stream",
     "text": [
      "\r",
      "4it [00:03,  1.10it/s]"
     ]
    },
    {
     "name": "stdout",
     "output_type": "stream",
     "text": [
      "100 2 1 0.0 0.0 0.0 0\n",
      "\n"
     ]
    },
    {
     "name": "stderr",
     "output_type": "stream",
     "text": [
      "\r",
      "5it [00:04,  1.09it/s]"
     ]
    },
    {
     "name": "stdout",
     "output_type": "stream",
     "text": [
      "100 2 1 0.2 0.0 0.0 0\n",
      "\n"
     ]
    },
    {
     "name": "stderr",
     "output_type": "stream",
     "text": [
      "\r",
      "6it [00:05,  1.12it/s]"
     ]
    },
    {
     "name": "stdout",
     "output_type": "stream",
     "text": [
      "100 2 1 0.2 0.0 0.0 0\n",
      "\n"
     ]
    },
    {
     "name": "stderr",
     "output_type": "stream",
     "text": [
      "\r",
      "7it [00:06,  1.10it/s]"
     ]
    },
    {
     "name": "stdout",
     "output_type": "stream",
     "text": [
      "100 2 1 0.2 0.0 0.0 0\n",
      "\n"
     ]
    },
    {
     "name": "stderr",
     "output_type": "stream",
     "text": [
      "\r",
      "8it [00:07,  1.08it/s]"
     ]
    },
    {
     "name": "stdout",
     "output_type": "stream",
     "text": [
      "100 2 1 0.2 0.0 0.0 0\n",
      "\n"
     ]
    },
    {
     "name": "stderr",
     "output_type": "stream",
     "text": [
      "\r",
      "9it [00:08,  1.08it/s]"
     ]
    },
    {
     "name": "stdout",
     "output_type": "stream",
     "text": [
      "100 2 1 0.2 0.0 0.0 0\n",
      "\n"
     ]
    },
    {
     "name": "stderr",
     "output_type": "stream",
     "text": [
      "\r",
      "10it [00:09,  1.08it/s]"
     ]
    },
    {
     "name": "stdout",
     "output_type": "stream",
     "text": [
      "100 2 1 0.4 0.0 0.0 0\n",
      "\n"
     ]
    },
    {
     "name": "stderr",
     "output_type": "stream",
     "text": [
      "\r",
      "11it [00:10,  1.08it/s]"
     ]
    },
    {
     "name": "stdout",
     "output_type": "stream",
     "text": [
      "100 2 1 0.4 0.0 0.0 0\n",
      "\n"
     ]
    },
    {
     "name": "stderr",
     "output_type": "stream",
     "text": [
      "\r",
      "12it [00:11,  1.08it/s]"
     ]
    },
    {
     "name": "stdout",
     "output_type": "stream",
     "text": [
      "100 2 1 0.4 0.0 0.0 0\n",
      "\n"
     ]
    },
    {
     "name": "stderr",
     "output_type": "stream",
     "text": [
      "\r",
      "13it [00:11,  1.10it/s]"
     ]
    },
    {
     "name": "stdout",
     "output_type": "stream",
     "text": [
      "100 2 1 0.4 0.0 0.0 0\n",
      "\n"
     ]
    },
    {
     "name": "stderr",
     "output_type": "stream",
     "text": [
      "\r",
      "14it [00:12,  1.10it/s]"
     ]
    },
    {
     "name": "stdout",
     "output_type": "stream",
     "text": [
      "100 2 1 0.4 0.0 0.0 0\n",
      "\n"
     ]
    },
    {
     "name": "stderr",
     "output_type": "stream",
     "text": [
      "\r",
      "15it [00:13,  1.10it/s]"
     ]
    },
    {
     "name": "stdout",
     "output_type": "stream",
     "text": [
      "100 2 1 0.6000000000000001 0.0 0.0 0\n",
      "\n"
     ]
    },
    {
     "name": "stderr",
     "output_type": "stream",
     "text": [
      "\r",
      "16it [00:14,  1.08it/s]"
     ]
    },
    {
     "name": "stdout",
     "output_type": "stream",
     "text": [
      "100 2 1 0.6000000000000001 0.0 0.0 0\n",
      "\n"
     ]
    },
    {
     "name": "stderr",
     "output_type": "stream",
     "text": [
      "\r",
      "17it [00:15,  1.09it/s]"
     ]
    },
    {
     "name": "stdout",
     "output_type": "stream",
     "text": [
      "100 2 1 0.6000000000000001 0.0 0.0 0\n",
      "\n"
     ]
    },
    {
     "name": "stderr",
     "output_type": "stream",
     "text": [
      "\r",
      "18it [00:16,  1.11it/s]"
     ]
    },
    {
     "name": "stdout",
     "output_type": "stream",
     "text": [
      "100 2 1 0.6000000000000001 0.0 0.0 0\n",
      "\n"
     ]
    },
    {
     "name": "stderr",
     "output_type": "stream",
     "text": [
      "\r",
      "19it [00:17,  1.11it/s]"
     ]
    },
    {
     "name": "stdout",
     "output_type": "stream",
     "text": [
      "100 2 1 0.6000000000000001 0.0 0.0 0\n",
      "\n"
     ]
    },
    {
     "name": "stderr",
     "output_type": "stream",
     "text": [
      "\r",
      "20it [00:18,  1.13it/s]"
     ]
    },
    {
     "name": "stdout",
     "output_type": "stream",
     "text": [
      "100 2 1 0.8 0.0 0.0 0\n",
      "\n"
     ]
    },
    {
     "name": "stderr",
     "output_type": "stream",
     "text": [
      "\r",
      "21it [00:19,  1.13it/s]"
     ]
    },
    {
     "name": "stdout",
     "output_type": "stream",
     "text": [
      "100 2 1 0.8 0.0 0.0 0\n",
      "\n"
     ]
    },
    {
     "name": "stderr",
     "output_type": "stream",
     "text": [
      "\r",
      "22it [00:19,  1.15it/s]"
     ]
    },
    {
     "name": "stdout",
     "output_type": "stream",
     "text": [
      "100 2 1 0.8 0.0 0.0 0\n",
      "\n"
     ]
    },
    {
     "name": "stderr",
     "output_type": "stream",
     "text": [
      "\r",
      "23it [00:20,  1.13it/s]"
     ]
    },
    {
     "name": "stdout",
     "output_type": "stream",
     "text": [
      "100 2 1 0.8 0.0 0.0 0\n",
      "\n"
     ]
    },
    {
     "name": "stderr",
     "output_type": "stream",
     "text": [
      "\r",
      "24it [00:21,  1.09it/s]"
     ]
    },
    {
     "name": "stdout",
     "output_type": "stream",
     "text": [
      "100 2 1 0.8 0.0 0.0 0\n",
      "\n"
     ]
    },
    {
     "name": "stderr",
     "output_type": "stream",
     "text": [
      "\r",
      "25it [00:22,  1.08it/s]"
     ]
    },
    {
     "name": "stdout",
     "output_type": "stream",
     "text": [
      "    beta_component  Run  community_no  opinions  preference_A  preference_B  \\\n",
      "0              0.0    0            10      0.68      0.554258      0.616752   \n",
      "1              0.0    1            11      0.64      0.474986      0.526495   \n",
      "2              0.0    2            11      0.48      0.531836      0.617223   \n",
      "3              0.0    3            12      0.60      0.587012      0.520869   \n",
      "4              0.0    4            11      0.61      0.614264      0.543724   \n",
      "5              0.2    5            13      0.67      0.561367      0.574537   \n",
      "6              0.2    6            11      0.53      0.559544      0.563975   \n",
      "7              0.2    7            10      0.60      0.612902      0.558603   \n",
      "8              0.2    8            12      0.39      0.587655      0.626019   \n",
      "9              0.2    9            13      0.63      0.549694      0.535834   \n",
      "10             0.4   10            13      0.55      0.514931      0.525340   \n",
      "11             0.4   11            13      0.40      0.592186      0.521571   \n",
      "12             0.4   12            13      0.60      0.580201      0.581037   \n",
      "13             0.4   13            14      0.44      0.559154      0.588705   \n",
      "14             0.4   14            13      0.76      0.518390      0.537141   \n",
      "15             0.6   15            12      0.39      0.523191      0.535334   \n",
      "16             0.6   16            13      0.39      0.599815      0.619757   \n",
      "17             0.6   17            14      0.65      0.562693      0.551000   \n",
      "18             0.6   18            13      0.68      0.603142      0.609204   \n",
      "19             0.6   19            12      0.73      0.521164      0.545986   \n",
      "20             0.8   20            13      0.51      0.568262      0.558167   \n",
      "21             0.8   21            13      0.65      0.589043      0.568283   \n",
      "22             0.8   22            13      0.49      0.566258      0.576035   \n",
      "23             0.8   23            11      0.45      0.519410      0.500327   \n",
      "24             0.8   24            10      0.50      0.537437      0.578395   \n",
      "\n",
      "    preferences  radical_opinions  network_type    N  no_of_neighbors  \\\n",
      "0      0.596754              0.30             1  100                2   \n",
      "1      0.507952              0.23             1  100                2   \n",
      "2      0.572821              0.22             1  100                2   \n",
      "3      0.547326              0.25             1  100                2   \n",
      "4      0.571235              0.29             1  100                2   \n",
      "5      0.570191              0.30             1  100                2   \n",
      "6      0.561892              0.17             1  100                2   \n",
      "7      0.580323              0.25             1  100                2   \n",
      "8      0.602617              0.29             1  100                2   \n",
      "9      0.540962              0.22             1  100                2   \n",
      "10     0.520656              0.27             1  100                2   \n",
      "11     0.563940              0.31             1  100                2   \n",
      "12     0.580702              0.25             1  100                2   \n",
      "13     0.572157              0.27             1  100                2   \n",
      "14     0.532640              0.23             1  100                2   \n",
      "15     0.527927              0.18             1  100                2   \n",
      "16     0.607592              0.33             1  100                2   \n",
      "17     0.555092              0.25             1  100                2   \n",
      "18     0.607264              0.30             1  100                2   \n",
      "19     0.539284              0.25             1  100                2   \n",
      "20     0.563113              0.29             1  100                2   \n",
      "21     0.575549              0.31             1  100                2   \n",
      "22     0.571049              0.31             1  100                2   \n",
      "23     0.510823              0.21             1  100                2   \n",
      "24     0.557916              0.26             1  100                2   \n",
      "\n",
      "    similarity_treshold  social_influence  swingers  \n",
      "0                   0.0               0.0         0  \n",
      "1                   0.0               0.0         0  \n",
      "2                   0.0               0.0         0  \n",
      "3                   0.0               0.0         0  \n",
      "4                   0.0               0.0         0  \n",
      "5                   0.0               0.0         0  \n",
      "6                   0.0               0.0         0  \n",
      "7                   0.0               0.0         0  \n",
      "8                   0.0               0.0         0  \n",
      "9                   0.0               0.0         0  \n",
      "10                  0.0               0.0         0  \n",
      "11                  0.0               0.0         0  \n",
      "12                  0.0               0.0         0  \n",
      "13                  0.0               0.0         0  \n",
      "14                  0.0               0.0         0  \n",
      "15                  0.0               0.0         0  \n",
      "16                  0.0               0.0         0  \n",
      "17                  0.0               0.0         0  \n",
      "18                  0.0               0.0         0  \n",
      "19                  0.0               0.0         0  \n",
      "20                  0.0               0.0         0  \n",
      "21                  0.0               0.0         0  \n",
      "22                  0.0               0.0         0  \n",
      "23                  0.0               0.0         0  \n",
      "24                  0.0               0.0         0  \n"
     ]
    },
    {
     "name": "stderr",
     "output_type": "stream",
     "text": [
      "\n"
     ]
    }
   ],
   "source": [
    "%matplotlib inline\n",
    "from model import *\n",
    "from agents import *\n",
    "from globals import *\n",
    "from server import *\n",
    "from schedule import *\n",
    "from utility import *\n",
    "from SALib.sample import saltelli\n",
    "from mesa.batchrunner import BatchRunner\n",
    "from SALib.analyze import sobol\n",
    "import pandas as pd\n",
    "import numpy as np\n",
    "import matplotlib.pyplot as plt\n",
    "from itertools import combinations\n",
    "from IPython.display import clear_output\n",
    "\n",
    "fixed_params = {\n",
    "    \"network_type\": 1,\n",
    "    \"N\": 100,\n",
    "    \"no_of_neighbors\": 2,\n",
    "    #\"beta_component\": 0.15,\n",
    "    \"similarity_treshold\": 0.0,\n",
    "    \"social_influence\": 0.0,\n",
    "    \"swingers\": 0\n",
    "}\n",
    "\n",
    "variable_params = {\n",
    "    #\"N\": range(100, 20, 50),\n",
    "    #\"no_of_neighbors\": range(1, 3),\n",
    "    \"beta_component\": np.arange(0.0, 1.0, 0.2),\n",
    "    #\"similarity_treshold\": np.arange(0.0, 1.0, 0.5),\n",
    "    #\"social_influence\": np.arange(0.0, 1.0, 0.5),\n",
    "    #\"swingers\": range(0, 3)\n",
    "}\n",
    "\n",
    "\n",
    "# Set the repetitions, the amount of steps, and the amount of distinct values per variable\n",
    "replicates = 5\n",
    "max_steps = 20\n",
    "\n",
    "# Set the outputs\n",
    "model_reporters = {\n",
    "                \"preferences\": compute_preferences,\n",
    "                \"opinions\": compute_opinions,\n",
    "                \"preference_A\": compute_preference_A,\n",
    "                \"preference_B\": compute_preference_B,\n",
    "                \"radical_opinions\": compute_radical_opinions,\n",
    "                \"community_no\": community_no,\n",
    "}\n",
    "\n",
    "data = {}\n",
    "\n",
    "  \n",
    "batch = BatchRunner(Network, \n",
    "                    max_steps=max_steps,\n",
    "                    iterations=replicates,\n",
    "                    fixed_parameters=fixed_params,\n",
    "                    variable_parameters=variable_params,\n",
    "                    model_reporters=model_reporters,\n",
    "                    display_progress=True)\n",
    "    \n",
    "batch.run_all()\n",
    "data = batch.get_model_vars_dataframe()\n",
    "\n",
    "#print data\n",
    "print(data)"
   ]
  },
  {
   "cell_type": "code",
   "execution_count": 2,
   "metadata": {},
   "outputs": [
    {
     "data": {
      "image/png": "[encoded data removed]",
      "text/plain": [
       "<Figure size 432x288 with 2 Axes>"
      ]
     },
     "metadata": {
      "needs_background": "light"
     },
     "output_type": "display_data"
    }
   ],
   "source": [
    "# Example plots for varying beta component\n",
    "\n",
    "replicates = 5\n",
    "distinct_samples = 5\n",
    "\n",
    "beta_component = np.arange(0.0, 1.0, 0.2)\n",
    "\n",
    "# community number\n",
    "count=0\n",
    "list_mean_community_no = []\n",
    "list_err_community_no = []\n",
    "for i in range(distinct_samples):\n",
    "    community_no = []\n",
    "    for j in range(replicates):\n",
    "        community_no.append(data.community_no[count + j])\n",
    "    count = count + j + 1\n",
    "    mean = np.mean(community_no)\n",
    "    std = np.std(community_no)\n",
    "    err = 1.96 * std / np.sqrt(replicates)\n",
    "    list_mean_community_no.append(mean)\n",
    "    list_err_community_no.append(err)\n",
    "\n",
    "# radical opinions\n",
    "count=0\n",
    "list_mean_radical_opinions = []\n",
    "list_err_radical_opinions = []\n",
    "for i in range(distinct_samples):\n",
    "    radical_opinions = []\n",
    "    for j in range(replicates):\n",
    "        radical_opinions.append(data.radical_opinions[count + j])\n",
    "    count = count + j + 1\n",
    "    mean = np.mean(radical_opinions)\n",
    "    std = np.std(radical_opinions)\n",
    "    err = 1.96 * std / np.sqrt(replicates)\n",
    "    list_mean_radical_opinions.append(mean)\n",
    "    list_err_radical_opinions.append(err)\n",
    "\n",
    "\n",
    "ax1 = plt.subplot(211, xticklabels=[])\n",
    "plt.errorbar(beta_component, list_mean_community_no, yerr=list_err_community_no, marker='s', linestyle='None')\n",
    "plt.ylabel('community number')\n",
    "\n",
    "ax2 = plt.subplot(212, sharex = ax1)\n",
    "plt.errorbar(beta_component, list_mean_radical_opinions, yerr=list_err_radical_opinions, marker='s', linestyle='None')\n",
    "plt.xlabel('beta component')\n",
    "plt.ylabel('radical opinions')\n",
    "\n",
    "plt.subplots_adjust(hspace=.0)\n",
    "plt.show()"
   ]
  },
  {
   "cell_type": "markdown",
   "metadata": {},
   "source": [
    "# Sobol SA"
   ]
  },
  {
   "cell_type": "markdown",
   "metadata": {},
   "source": [
    "I also tried sobol sensitivity analysis, but this doesn't work (yet)..."
   ]
  },
  {
   "cell_type": "code",
   "execution_count": 3,
   "metadata": {},
   "outputs": [
    {
     "name": "stdout",
     "output_type": "stream",
     "text": [
      "\n"
     ]
    },
    {
     "ename": "TypeError",
     "evalue": "__init__() missing 1 required positional argument: 'malicious_N'",
     "output_type": "error",
     "traceback": [
      "\u001b[0;31m---------------------------------------------------------------------------\u001b[0m",
      "\u001b[0;31mTypeError\u001b[0m                                 Traceback (most recent call last)",
      "\u001b[0;32m<ipython-input-3-f00a06d5a079>\u001b[0m in \u001b[0;36m<module>\u001b[0;34m\u001b[0m\n\u001b[1;32m     70\u001b[0m \u001b[0;31m#         print(variable_parameters)\u001b[0m\u001b[0;34m\u001b[0m\u001b[0;34m\u001b[0m\u001b[0;34m\u001b[0m\u001b[0m\n\u001b[1;32m     71\u001b[0m \u001b[0;31m#         print(variable_parameters)\u001b[0m\u001b[0;34m\u001b[0m\u001b[0;34m\u001b[0m\u001b[0;34m\u001b[0m\u001b[0m\n\u001b[0;32m---> 72\u001b[0;31m         \u001b[0mbatch\u001b[0m\u001b[0;34m.\u001b[0m\u001b[0mrun_iteration\u001b[0m\u001b[0;34m(\u001b[0m\u001b[0mvariable_parameters\u001b[0m\u001b[0;34m,\u001b[0m \u001b[0mtuple\u001b[0m\u001b[0;34m(\u001b[0m\u001b[0mvals\u001b[0m\u001b[0;34m)\u001b[0m\u001b[0;34m,\u001b[0m \u001b[0mcount\u001b[0m\u001b[0;34m)\u001b[0m\u001b[0;34m\u001b[0m\u001b[0;34m\u001b[0m\u001b[0m\n\u001b[0m\u001b[1;32m     73\u001b[0m         \u001b[0mcount\u001b[0m \u001b[0;34m+=\u001b[0m \u001b[0;36m1\u001b[0m\u001b[0;34m\u001b[0m\u001b[0;34m\u001b[0m\u001b[0m\n\u001b[1;32m     74\u001b[0m \u001b[0;34m\u001b[0m\u001b[0m\n",
      "\u001b[0;32m/usr/lib/python3.7/site-packages/mesa/batchrunner.py\u001b[0m in \u001b[0;36mrun_iteration\u001b[0;34m(self, kwargs, param_values, run_count)\u001b[0m\n\u001b[1;32m    150\u001b[0m     \u001b[0;32mdef\u001b[0m \u001b[0mrun_iteration\u001b[0m\u001b[0;34m(\u001b[0m\u001b[0mself\u001b[0m\u001b[0;34m,\u001b[0m \u001b[0mkwargs\u001b[0m\u001b[0;34m,\u001b[0m \u001b[0mparam_values\u001b[0m\u001b[0;34m,\u001b[0m \u001b[0mrun_count\u001b[0m\u001b[0;34m)\u001b[0m\u001b[0;34m:\u001b[0m\u001b[0;34m\u001b[0m\u001b[0;34m\u001b[0m\u001b[0m\n\u001b[1;32m    151\u001b[0m         \u001b[0mkwargscopy\u001b[0m \u001b[0;34m=\u001b[0m \u001b[0mcopy\u001b[0m\u001b[0;34m.\u001b[0m\u001b[0mdeepcopy\u001b[0m\u001b[0;34m(\u001b[0m\u001b[0mkwargs\u001b[0m\u001b[0;34m)\u001b[0m\u001b[0;34m\u001b[0m\u001b[0;34m\u001b[0m\u001b[0m\n\u001b[0;32m--> 152\u001b[0;31m         \u001b[0mmodel\u001b[0m \u001b[0;34m=\u001b[0m \u001b[0mself\u001b[0m\u001b[0;34m.\u001b[0m\u001b[0mmodel_cls\u001b[0m\u001b[0;34m(\u001b[0m\u001b[0;34m**\u001b[0m\u001b[0mkwargscopy\u001b[0m\u001b[0;34m)\u001b[0m\u001b[0;34m\u001b[0m\u001b[0;34m\u001b[0m\u001b[0m\n\u001b[0m\u001b[1;32m    153\u001b[0m         \u001b[0mself\u001b[0m\u001b[0;34m.\u001b[0m\u001b[0mrun_model\u001b[0m\u001b[0;34m(\u001b[0m\u001b[0mmodel\u001b[0m\u001b[0;34m)\u001b[0m\u001b[0;34m\u001b[0m\u001b[0;34m\u001b[0m\u001b[0m\n\u001b[1;32m    154\u001b[0m \u001b[0;34m\u001b[0m\u001b[0m\n",
      "\u001b[0;31mTypeError\u001b[0m: __init__() missing 1 required positional argument: 'malicious_N'"
     ]
    }
   ],
   "source": [
    "%matplotlib inline\n",
    "from model import *\n",
    "from agents import *\n",
    "from globals import *\n",
    "from server import *\n",
    "from schedule import *\n",
    "from utility import *\n",
    "from SALib.sample import saltelli\n",
    "from mesa.batchrunner import BatchRunner\n",
    "from SALib.analyze import sobol\n",
    "import pandas as pd\n",
    "import numpy as np\n",
    "import matplotlib.pyplot as plt\n",
    "from itertools import combinations\n",
    "\n",
    "# We define our variables and bounds\n",
    "\n",
    "fixed_params = {\n",
    "    \"network_type\": 1\n",
    "}\n",
    "\n",
    "problem = {\n",
    "    'num_vars': 6,\n",
    "    'names': ['N', 'no_of_neighbors', 'beta_component', 'similarity_treshold', 'social_influence', 'swingers'],\n",
    "    'bounds': [[50, 250], [2, 5], [0.1, 1.0], [0.01, 1.0], [0.01, 1.0], [1, 5]]\n",
    "}\n",
    "\n",
    "# Set the repetitions, the amount of steps, and the amount of distinct values per variable\n",
    "replicates = 100\n",
    "max_steps = 200\n",
    "distinct_samples = 10\n",
    "\n",
    "# We get all our samples here\n",
    "param_values = saltelli.sample(problem, distinct_samples)\n",
    "# print(param_values)\n",
    "\n",
    "# Set the outputs\n",
    "model_reporters = {\n",
    "                \"preferences\": compute_preferences,\n",
    "                \"opinions\": compute_opinions,\n",
    "                \"preference_A\": compute_preference_A,\n",
    "                \"preference_B\": compute_preference_B,\n",
    "                \"radical_opinions\": compute_radical_opinions,\n",
    "                \"community_no\": community_no,\n",
    "}\n",
    "\n",
    "\n",
    "# BatchRunner\n",
    "batch = BatchRunner(Network, \n",
    "                    max_steps=max_steps,\n",
    "                    fixed_parameters=fixed_params,\n",
    "                    variable_parameters={name:[] for name in problem['names']},\n",
    "                    model_reporters=model_reporters)\n",
    "\n",
    "count = 0\n",
    "for i in range(replicates):\n",
    "    for vals in param_values: \n",
    "        # Change parameters that should be integers\n",
    "        vals = list(vals)\n",
    "#         vals[2] = int(vals[2])\n",
    "\n",
    "        # Transform to dict with parameter names and their values\n",
    "        variable_parameters = {}\n",
    "        for name, val in zip(problem['names'], vals):\n",
    "            variable_parameters[name] = val\n",
    "        variable_parameters['network_type']=1\n",
    "        variable_parameters['N']=int(variable_parameters['N'])\n",
    "        variable_parameters['no_of_neighbors']=int(variable_parameters['no_of_neighbors'])\n",
    "        variable_parameters['swingers']=int(variable_parameters['swingers'])\n",
    "#         print(variable_parameters)\n",
    "#         print(variable_parameters)\n",
    "        batch.run_iteration(variable_parameters, tuple(vals), count)\n",
    "        count += 1\n",
    "\n",
    "        clear_output()\n",
    "        print(f'{count / (len(param_values) * (replicates)) * 100:.2f}% done')\n",
    "    \n",
    "data = batch.get_model_vars_dataframe()\n",
    "print(data)"
   ]
  },
  {
   "cell_type": "code",
   "execution_count": 4,
   "metadata": {},
   "outputs": [
    {
     "name": "stdout",
     "output_type": "stream",
     "text": [
      "Parameter S1 S1_conf ST ST_conf\n",
      "N 0.375747 0.481686 0.213859 0.145917\n",
      "no_of_neighbors 0.696211 0.517229 0.264038 0.134406\n",
      "beta_component 0.221522 0.285835 0.096774 0.062828\n",
      "similarity_treshold 0.259054 0.284471 0.100358 0.056074\n",
      "social_influence 0.050043 0.222675 0.050179 0.043867\n",
      "swingers 0.163902 0.223514 0.048984 0.036222\n",
      "\n",
      "Parameter_1 Parameter_2 S2 S2_conf\n",
      "N no_of_neighbors -0.293258 0.800403\n",
      "N beta_component -0.188121 0.778987\n",
      "N similarity_treshold -0.221574 0.749371\n",
      "N social_influence -0.195289 0.745905\n",
      "N swingers -0.214405 0.737514\n",
      "no_of_neighbors beta_component -0.648575 0.685285\n",
      "no_of_neighbors similarity_treshold -0.701144 0.664327\n",
      "no_of_neighbors social_influence -0.667691 0.633667\n",
      "no_of_neighbors swingers -0.693975 0.653991\n",
      "beta_component similarity_treshold -0.192712 0.367551\n",
      "beta_component social_influence -0.171207 0.382701\n",
      "beta_component swingers -0.171207 0.360134\n",
      "similarity_treshold social_influence -0.227855 0.346331\n",
      "similarity_treshold swingers -0.254139 0.316274\n",
      "social_influence swingers 0.005615 0.306958\n",
      "Parameter S1 S1_conf ST ST_conf\n",
      "N -0.113400 0.245879 0.088200 0.157154\n",
      "no_of_neighbors 0.112169 0.238658 0.100658 0.175209\n",
      "beta_component 0.022876 0.296080 0.326623 0.275604\n",
      "similarity_treshold 0.252964 0.818024 1.100953 0.934125\n",
      "social_influence 0.258256 0.322198 0.488621 0.485648\n",
      "swingers 0.053373 0.247350 0.134524 0.198104\n",
      "\n",
      "Parameter_1 Parameter_2 S2 S2_conf\n",
      "N no_of_neighbors -0.085490 1.071171\n",
      "N beta_component 0.111207 0.933541\n",
      "N similarity_treshold 0.441148 0.908323\n",
      "N social_influence -0.069979 1.015919\n",
      "N swingers -0.150323 1.102459\n",
      "no_of_neighbors beta_component -0.150546 0.709173\n",
      "no_of_neighbors similarity_treshold -0.049933 0.752136\n",
      "no_of_neighbors social_influence -0.146854 0.759274\n",
      "no_of_neighbors swingers -0.197996 0.959646\n",
      "beta_component similarity_treshold -0.006223 0.560783\n",
      "beta_component social_influence 0.237972 0.374137\n",
      "beta_component swingers 0.273866 0.458291\n",
      "similarity_treshold social_influence 0.090010 0.970725\n",
      "similarity_treshold swingers 0.736468 0.716833\n",
      "social_influence swingers 0.494754 0.843251\n"
     ]
    },
    {
     "name": "stderr",
     "output_type": "stream",
     "text": [
      "/usr/lib/python3.7/site-packages/ipykernel_launcher.py:1: FutureWarning: Method .as_matrix will be removed in a future version. Use .values instead.\n",
      "  \"\"\"Entry point for launching an IPython kernel.\n",
      "/usr/lib/python3.7/site-packages/ipykernel_launcher.py:2: FutureWarning: Method .as_matrix will be removed in a future version. Use .values instead.\n",
      "  \n"
     ]
    }
   ],
   "source": [
    "community_number = sobol.analyze(problem, data['community_no'].as_matrix(), print_to_console=True)\n",
    "radical_opinions = sobol.analyze(problem, data['radical_opinions'].as_matrix(), print_to_console=True)"
   ]
  },
  {
   "cell_type": "code",
   "execution_count": 5,
   "metadata": {},
   "outputs": [],
   "source": [
    "def plot_index(s, params, i, title=''):\n",
    "    \"\"\"\n",
    "    Creates a plot for Sobol sensitivity analysis that shows the contributions\n",
    "    of each parameter to the global sensitivity.\n",
    "\n",
    "    Args:\n",
    "        s (dict): dictionary {'S#': dict, 'S#_conf': dict} of dicts that hold\n",
    "            the values for a set of parameters\n",
    "        params (list): the parameters taken from s\n",
    "        i (str): string that indicates what order the sensitivity is.\n",
    "        title (str): title for the plot\n",
    "    \"\"\"\n",
    "\n",
    "    if i == '2':\n",
    "        p = len(params)\n",
    "        params = list(combinations(params, 2))\n",
    "        indices = s['S' + i].reshape((p ** 2))\n",
    "        indices = indices[~np.isnan(indices)]\n",
    "        errors = s['S' + i + '_conf'].reshape((p ** 2))\n",
    "        errors = errors[~np.isnan(errors)]\n",
    "    else:\n",
    "        indices = s['S' + i]\n",
    "        errors = s['S' + i + '_conf']\n",
    "        plt.figure()\n",
    "\n",
    "    l = len(indices)\n",
    "\n",
    "    plt.title(title)\n",
    "    plt.ylim([-0.2, len(indices) - 1 + 0.2])\n",
    "    plt.yticks(range(l), params)\n",
    "    plt.errorbar(indices, range(l), xerr=errors, linestyle='None', marker='o')\n",
    "    plt.axvline(0, c='k')"
   ]
  },
  {
   "cell_type": "code",
   "execution_count": 7,
   "metadata": {},
   "outputs": [
    {
     "data": {
      "image/png": "[encoded data removed]",
      "text/plain": [
       "<Figure size 432x288 with 1 Axes>"
      ]
     },
     "metadata": {
      "needs_background": "light"
     },
     "output_type": "display_data"
    },
    {
     "data": {
      "image/png": "[encoded data removed]",
      "text/plain": [
       "<Figure size 432x288 with 1 Axes>"
      ]
     },
     "metadata": {
      "needs_background": "light"
     },
     "output_type": "display_data"
    },
    {
     "data": {
      "image/png": "[encoded data removed]",
      "text/plain": [
       "<Figure size 432x288 with 1 Axes>"
      ]
     },
     "metadata": {
      "needs_background": "light"
     },
     "output_type": "display_data"
    },
    {
     "data": {
      "image/png": "[encoded data removed]",
      "text/plain": [
       "<Figure size 432x288 with 1 Axes>"
      ]
     },
     "metadata": {
      "needs_background": "light"
     },
     "output_type": "display_data"
    },
    {
     "data": {
      "image/png": "[encoded data removed]",
      "text/plain": [
       "<Figure size 432x288 with 1 Axes>"
      ]
     },
     "metadata": {
      "needs_background": "light"
     },
     "output_type": "display_data"
    },
    {
     "data": {
      "image/png": "[encoded data removed]",
      "text/plain": [
       "<Figure size 432x288 with 1 Axes>"
      ]
     },
     "metadata": {
      "needs_background": "light"
     },
     "output_type": "display_data"
    }
   ],
   "source": [
    "for Si in (community_number, radical_opinions):\n",
    "    # First order\n",
    "    plot_index(Si, problem['names'], '1', 'First order sensitivity')\n",
    "    plt.show()\n",
    "\n",
    "    # Second order\n",
    "    plot_index(Si, problem['names'], '2', 'Second order sensitivity')\n",
    "    plt.show()\n",
    "\n",
    "    # Total order\n",
    "    plot_index(Si, problem['names'], 'T', 'Total order sensitivity')\n",
    "    plt.show()"
   ]
  },
  {
   "cell_type": "code",
   "execution_count": null,
   "metadata": {},
   "outputs": [],
   "source": []
  }
 ],
 "metadata": {
  "kernelspec": {
   "display_name": "Python 3",
   "language": "python",
   "name": "python3"
  },
  "language_info": {
   "codemirror_mode": {
    "name": "ipython",
    "version": 3
   },
   "file_extension": ".py",
   "mimetype": "text/x-python",
   "name": "python",
   "nbconvert_exporter": "python",
   "pygments_lexer": "ipython3",
   "version": "3.7.1"
  }
 },
 "nbformat": 4,
 "nbformat_minor": 2
}
