{
 "cells": [
  {
   "cell_type": "markdown",
   "metadata": {},
   "source": [
    "# OFAT SA"
   ]
  },
  {
   "cell_type": "code",
   "execution_count": null,
   "metadata": {
    "scrolled": true
   },
   "outputs": [],
   "source": [
    "%matplotlib inline\n",
    "from model import *\n",
    "from agents import *\n",
    "from globals import *\n",
    "from server import *\n",
    "from schedule import *\n",
    "from utility import *\n",
    "from SALib.sample import saltelli\n",
    "from mesa.batchrunner import BatchRunner, BatchRunnerMP\n",
    "from SALib.analyze import sobol\n",
    "import pandas as pd\n",
    "import numpy as np\n",
    "import matplotlib.pyplot as plt\n",
    "from itertools import combinations\n",
    "from IPython.display import clear_output\n",
    "import multiprocessing as mp"
   ]
  },
  {
   "cell_type": "code",
   "execution_count": null,
   "metadata": {},
   "outputs": [],
   "source": [
    "fixed_params = {\n",
    "    \"N\": 1000,\n",
    "    \"network_type\": 2,\n",
    "    \"no_of_neighbors\": 3,\n",
    "    \"beta_component\": 0.15,\n",
    "    \"social_influence\": 0.06,\n",
    "    \"swingers\": 3,\n",
    "    \"malicious_N\":0,\n",
    "    \"echo_limit\": .95,\n",
    "    \"all_majority\": False,\n",
    "    \"opinions\":2,\n",
    "    \n",
    "}\n",
    " \n",
    "\n",
    "variable_params = {\n",
    "        \"opinions\":range(2, 6),\n",
    "    #\"N\": range(100, 20, 50),\n",
    "#     \"no_of_neighbors\": range(2, 4),\n",
    "#     \"beta_component\": np.arange(0.0, 1.0, 0.2),\n",
    "#     \"similarity_treshold\": np.arange(0.01, 0.11, 0.02),\n",
    "#     \"social_influence\": np.arange(0.01, 0.11, 0.02),\n",
    "#     \"swingers\": range(1, 5),\n",
    "#     \"echo_threshold\": np.arange(0.05,0.21,0.01),\n",
    "#     \"opinions\": range(2,6)\n",
    "}\n",
    "\n",
    "# print(variable_params['echo_threshold'])\n",
    "\n",
    "# Set the repetitions, the amount of steps, and the amount of distinct values per variable\n",
    "replicates = 30\n",
    "max_steps = 100\n",
    "\n",
    "# Set the outputs\n",
    "model_reporters = {\n",
    "#                 \"preferences\": compute_preferences,\n",
    "#                 \"opinions\": compute_opinions,\n",
    "#                 \"preference_A\": compute_preference_A,\n",
    "#                 \"preference_B\": compute_preference_B,\n",
    "                \"radical_opinions\": compute_radical_opinions,\n",
    "                \"community_no\": community_no,\n",
    "                \"echo_chambers\": echo_no,\n",
    "                \"majority_opinion\": compute_majority_opinions,\n",
    "                \"silent_spiral\": compute_silent_spiral,\n",
    "                \"compute_transitivity\":compute_transitivity\n",
    "}\n",
    "\n",
    "data = {}\n",
    "\n",
    "  \n",
    "batch = BatchRunnerMP(Network, \n",
    "                    max_steps=max_steps,\n",
    "                    iterations=replicates,\n",
    "                    fixed_parameters=fixed_params,\n",
    "                    variable_parameters=variable_params,\n",
    "                    model_reporters=model_reporters, \n",
    "                    nr_processes=4,\n",
    "                    display_progress=True)\n",
    "    \n",
    "batch.run_all()\n",
    "data = batch.get_model_vars_dataframe()\n",
    "\n",
    "#print data\n",
    "print(data)\n"
   ]
  },
  {
   "cell_type": "code",
   "execution_count": null,
   "metadata": {},
   "outputs": [],
   "source": [
    "data.to_pickle('./Data/OFAT_NWsize.pkl')"
   ]
  },
  {
   "cell_type": "code",
   "execution_count": null,
   "metadata": {
    "scrolled": false
   },
   "outputs": [],
   "source": [
    "# f, axarr = plt.subplots(8, sharex=True, dpi=500)\n",
    "\n",
    "for i in range(1,len(list(data))):\n",
    "    plt.figure(dpi=100)\n",
    "    plt.scatter(data.iloc[:,0],data.iloc[:,i], alpha=.2)\n",
    "    plt.xlabel('opinions')\n",
    "    plt.ylabel(list(data)[i])\n",
    "#     plt.ylim([-0.1,1.1])\n",
    "    plt.show()"
   ]
  },
  {
   "cell_type": "code",
   "execution_count": null,
   "metadata": {},
   "outputs": [],
   "source": [
    "global_average = np.mean(data['echo_chambers'])\n",
    "avarages = []\n",
    "for i in np.arange(0.05,0.21,0.01):\n",
    "    avarage = np.mean(data['echo_chambers'].where(data['echo_threshold'] == i))\n",
    "    avarages.append(avarage)\n",
    "\n",
    "print(avarages)\n",
    "print(global_average)"
   ]
  },
  {
   "cell_type": "code",
   "execution_count": null,
   "metadata": {
    "scrolled": false
   },
   "outputs": [],
   "source": [
    "# for i in range(len(list(data))):\n",
    "plt.boxplot(data[\"echo_chambers\"],[i for i in data[list(data)[i]]])\n",
    "plt.title(list(data)[i])\n",
    "plt.xlabel('N')\n",
    "plt.ylabel(list(data)[i])\n",
    "plt.show()\n"
   ]
  },
  {
   "cell_type": "code",
   "execution_count": null,
   "metadata": {},
   "outputs": [],
   "source": [
    "list(data)"
   ]
  },
  {
   "cell_type": "code",
   "execution_count": null,
   "metadata": {},
   "outputs": [],
   "source": [
    "# Example plots for varying beta component\n",
    "\n",
    "replicates = 5\n",
    "distinct_samples = 5\n",
    "\n",
    "beta_component = np.arange(0.0, 1.0, 0.2)\n",
    "\n",
    "# community number\n",
    "count=0\n",
    "list_mean_community_no = []\n",
    "list_err_community_no = []\n",
    "for i in range(distinct_samples):\n",
    "    community_no = []\n",
    "    for j in range(replicates):\n",
    "        community_no.append(data.community_no[count + j])\n",
    "    count = count + j + 1\n",
    "    mean = np.mean(community_no)\n",
    "    std = np.std(community_no)\n",
    "    err = 1.96 * std / np.sqrt(replicates)\n",
    "    list_mean_community_no.append(mean)\n",
    "    list_err_community_no.append(err)\n",
    "\n",
    "# radical opinions\n",
    "count=0\n",
    "list_mean_radical_opinions = []\n",
    "list_err_radical_opinions = []\n",
    "for i in range(distinct_samples):\n",
    "    radical_opinions = []\n",
    "    for j in range(replicates):\n",
    "        radical_opinions.append(data.radical_opinions[count + j])\n",
    "    count = count + j + 1\n",
    "    mean = np.mean(radical_opinions)\n",
    "    std = np.std(radical_opinions)\n",
    "    err = 1.96 * std / np.sqrt(replicates)\n",
    "    list_mean_radical_opinions.append(mean)\n",
    "    list_err_radical_opinions.append(err)\n",
    "\n",
    "\n",
    "ax1 = plt.subplot(211, xticklabels=[])\n",
    "plt.errorbar(beta_component, list_mean_community_no, yerr=list_err_community_no, marker='s', linestyle='None')\n",
    "plt.ylabel('community number')\n",
    "\n",
    "ax2 = plt.subplot(212, sharex = ax1)\n",
    "plt.errorbar(beta_component, list_mean_radical_opinions, yerr=list_err_radical_opinions, marker='s', linestyle='None')\n",
    "plt.xlabel('beta component')\n",
    "plt.ylabel('radical opinions')\n",
    "\n",
    "plt.subplots_adjust(hspace=.0)\n",
    "plt.show()"
   ]
  },
  {
   "cell_type": "markdown",
   "metadata": {},
   "source": [
    "# Sobol SA"
   ]
  },
  {
   "cell_type": "code",
   "execution_count": 1,
   "metadata": {},
   "outputs": [],
   "source": [
    "#### %matplotlib inline\n",
    "from model import *\n",
    "from agents import *\n",
    "from globals import *\n",
    "# from server import *\n",
    "from schedule import *\n",
    "from utility import *\n",
    "from SALib.sample import saltelli\n",
    "from mesa.batchrunner import BatchRunner, BatchRunnerMP\n",
    "import pathos\n",
    "from SALib.analyze import sobol\n",
    "import pandas as pd\n",
    "import numpy as np\n",
    "import matplotlib.pyplot as plt\n",
    "from itertools import combinations\n",
    "from IPython.display import clear_output\n",
    "import time\n",
    "import multiprocessing as mp\n",
    "import analysis\n",
    "\n"
   ]
  },
  {
   "cell_type": "code",
   "execution_count": 18,
   "metadata": {},
   "outputs": [],
   "source": [
    "# We define our variables and bounds\n",
    "\n",
    "fixed_params = {\n",
    "    \"network_type\": 2\n",
    "}\n",
    "\n",
    "problem = {\n",
    "    'num_vars':6,\n",
    "    'names': ['similarity_treshold', 'social_influence', 'swingers', 'no_of_neighbors', 'echo_limit',\"opinions\"],\n",
    "    'bounds': [[0.01,0.1], [0.01, 0.1], [1, 5], [2,6], [0.80,0.95], [2,5]]\n",
    "}\n",
    "\n",
    "# Set the repetitions, the amount of steps, and the amount of distinct values per variable\n",
    "replicates = 30\n",
    "max_steps = 100\n",
    "distinct_samples = 10\n",
    "\n",
    "# We get all our samples here\n",
    "param_values = saltelli.sample(problem, distinct_samples, calc_second_order= False)\n"
   ]
  },
  {
   "cell_type": "code",
   "execution_count": 26,
   "metadata": {},
   "outputs": [],
   "source": [
    "\n",
    "\n",
    "# DIRK ZIJN DISTINCT SAMPLES\n",
    "DIRK = param_values[len(param_values)//2:]\n",
    "\n",
    "#TOBIAS ZIJN DISTINCT SAMPLES\n",
    "TOBIAS = param_values[:len(param_values)//2]\n"
   ]
  },
  {
   "cell_type": "code",
   "execution_count": null,
   "metadata": {},
   "outputs": [],
   "source": [
    "# Set the outputs\n",
    "model_reporters = {\n",
    "#                 \"preferences\": compute_preferences,\n",
    "#                 \"opinions\": compute_opinions,\n",
    "#                 \"preference_A\": compute_preference_A,\n",
    "#                 \"preference_B\": compute_preference_B,\n",
    "                \"radical_opinions\": compute_radical_opinions,\n",
    "                \"Silent_Spiral\": compute_silent_spiral,\n",
    "                \"majority_percentage\": compute_majority_opinions,\n",
    "                \"community_no\": community_no,\n",
    "                \"transitivity\": compute_transitivity,\n",
    "                \"echo_chamber\": compute_echo_chamber,\n",
    "                \"echo_size\": echochamber_size,\n",
    "                \"echo_count\": echochamber_count,          \n",
    "}\n",
    "\n",
    "param_values = DIRK\n",
    "# param_values = TOBIAS\n",
    "\n",
    "# BatchRunner\n",
    "batch = BatchRunnerMP(Network, \n",
    "                    max_steps=max_steps,\n",
    "                    fixed_parameters=fixed_params,\n",
    "                    variable_parameters={name:[] for name in problem['names']},\n",
    "                    model_reporters=model_reporters, nr_processes=mp.cpu_count())\n",
    "times = []\n",
    "count = 0\n",
    "for i in range(replicates):\n",
    "    for vals in param_values:\n",
    "        start = time.time()\n",
    "        # Change parameters that should be integers\n",
    "        vals = list(vals)\n",
    "#         vals[2] = int(vals[2])\n",
    "\n",
    "        # Transform to dict with parameter names and their values\n",
    "        variable_parameters = {}\n",
    "        for name, val in zip(problem['names'], vals):\n",
    "            variable_parameters[name] = val\n",
    "        variable_parameters['network_type']=2\n",
    "        variable_parameters['malicious_N']=0\n",
    "        variable_parameters['N']=1000\n",
    "        variable_parameters['beta_component']=1\n",
    "        variable_parameters['swingers']=int(variable_parameters['swingers'])\n",
    "        variable_parameters['no_of_neighbors']=int(variable_parameters['no_of_neighbors'])\n",
    "        variable_parameters['all_majority']=False\n",
    "        variable_parameters['opinions']=int(variable_parameters['opinions'])\n",
    "\n",
    "        batch.run_iteration(variable_parameters, tuple(vals), count)\n",
    "        count += 1\n",
    "\n",
    "        clear_output()\n",
    "        print(f'{count / (len(param_values) * (replicates)) * 100:.2f}% done')\n",
    "        times.append(time.time() - start)\n",
    "        meantime = np.mean(times)\n",
    "        print('Average duration per iteration: %s seconds.'%str(meantime))\n",
    "        nectime = ((len(param_values) * (replicates))-count)*meantime\n",
    "        print('Expected time till finish: ', int(nectime/3600), 'hours and ', int((nectime%3600)/60), ' minutes.')\n",
    "        \n",
    "        \n",
    "    \n",
    "data = batch.get_model_vars_dataframe()\n",
    "data.to_pickle('./Data/Dirk_Sobol_BA.pkl')\n"
   ]
  },
  {
   "cell_type": "code",
   "execution_count": null,
   "metadata": {},
   "outputs": [],
   "source": [
    "print(data2)"
   ]
  },
  {
   "cell_type": "code",
   "execution_count": null,
   "metadata": {},
   "outputs": [],
   "source": [
    "data.to_pickle('dataDirk.pkl')\n",
    "# data = pd.read_pickle('data.pkl')"
   ]
  },
  {
   "cell_type": "code",
   "execution_count": null,
   "metadata": {},
   "outputs": [],
   "source": [
    "for Si in (opinions, radical_opinions):\n",
    "    # First order\n",
    "    plot_index(Si, problem['names'], '1', 'First order sensitivity')\n",
    "    plt.savefig('a')\n",
    "    plt.show()\n",
    "\n",
    "    # Second order\n",
    "#     plot_index(Si, problem['names'], '2', 'Second order sensitivity')\n",
    "#     plt.show()\n",
    "\n",
    "    # Total order\n",
    "    plot_index(Si, problem['names'], 'T', 'Total order sensitivity')\n",
    "    plt.show()"
   ]
  },
  {
   "cell_type": "code",
   "execution_count": null,
   "metadata": {},
   "outputs": [],
   "source": [
    "def plot_index(s, params, i, title=''):\n",
    "    \"\"\"\n",
    "    Creates a plot for Sobol sensitivity analysis that shows the contributions\n",
    "    of each parameter to the global sensitivity.\n",
    "\n",
    "    Args:\n",
    "        s (dict): dictionary {'S#': dict, 'S#_conf': dict} of dicts that hold\n",
    "            the values for a set of parameters\n",
    "        params (list): the parameters taken from s\n",
    "        i (str): string that indicates what order the sensitivity is.\n",
    "        title (str): title for the plot\n",
    "    \"\"\"\n",
    "\n",
    "    if i == '2':\n",
    "        p = len(params)\n",
    "        params = list(combinations(params, 2))\n",
    "        indices = s['S' + i].reshape((p ** 2))\n",
    "        indices = indices[~np.isnan(indices)]\n",
    "        errors = s['S' + i + '_conf'].reshape((p ** 2))\n",
    "        errors = errors[~np.isnan(errors)]\n",
    "    else:\n",
    "        indices = s['S' + i]\n",
    "        errors = s['S' + i + '_conf']\n",
    "        plt.figure()\n",
    "\n",
    "    l = len(indices)\n",
    "\n",
    "    plt.title(title)\n",
    "    plt.ylim([-0.2, len(indices) - 1 + 0.2])\n",
    "    plt.yticks(range(l), params)\n",
    "    plt.errorbar(indices, range(l), xerr=errors, linestyle='None', marker='o')\n",
    "    plt.axvline(0, c='k')"
   ]
  },
  {
   "cell_type": "code",
   "execution_count": null,
   "metadata": {},
   "outputs": [],
   "source": []
  }
 ],
 "metadata": {
  "kernelspec": {
   "display_name": "Python 3",
   "language": "python",
   "name": "python3"
  },
  "language_info": {
   "codemirror_mode": {
    "name": "ipython",
    "version": 3
   },
   "file_extension": ".py",
   "mimetype": "text/x-python",
   "name": "python",
   "nbconvert_exporter": "python",
   "pygments_lexer": "ipython3",
   "version": "3.6.4"
  },
  "varInspector": {
   "cols": {
    "lenName": 16,
    "lenType": 16,
    "lenVar": 40
   },
   "kernels_config": {
    "python": {
     "delete_cmd_postfix": "",
     "delete_cmd_prefix": "del ",
     "library": "var_list.py",
     "varRefreshCmd": "print(var_dic_list())"
    },
    "r": {
     "delete_cmd_postfix": ") ",
     "delete_cmd_prefix": "rm(",
     "library": "var_list.r",
     "varRefreshCmd": "cat(var_dic_list()) "
    }
   },
   "types_to_exclude": [
    "module",
    "function",
    "builtin_function_or_method",
    "instance",
    "_Feature"
   ],
   "window_display": false
  }
 },
 "nbformat": 4,
 "nbformat_minor": 2
}
