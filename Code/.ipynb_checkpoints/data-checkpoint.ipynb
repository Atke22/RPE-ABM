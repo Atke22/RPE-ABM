{
 "cells": [
  {
   "cell_type": "code",
   "execution_count": 2,
   "metadata": {},
   "outputs": [],
   "source": [
    "from model import *\n",
    "from agents import *\n",
    "from globals import *\n",
    "# from server import *\n",
    "from schedule import *\n",
    "from utility import *"
   ]
  },
  {
   "cell_type": "code",
   "execution_count": 6,
   "metadata": {},
   "outputs": [
    {
     "name": "stderr",
     "output_type": "stream",
     "text": [
      "4it [00:16,  4.15s/it]"
     ]
    },
    {
     "name": "stdout",
     "output_type": "stream",
     "text": [
      "   seed  malicious_N  Run  community_no  compute_echo_chamber  \\\n",
      "0     1            0    0            16                    30   \n",
      "1     1            0    1            14                    16   \n",
      "2     2            0    2            14                    25   \n",
      "3     2            0    3            16                    21   \n",
      "\n",
      "   compute_transitivity  echochamber_count echochamber_size  majority_opinion  \\\n",
      "0              0.020673           0.007143          {3: 30}             0.575   \n",
      "1              0.017814           0.003798    {3: 15, 4: 1}             0.503   \n",
      "2              0.014978           0.005962          {3: 25}             0.535   \n",
      "3              0.020155           0.004958          {3: 21}             0.601   \n",
      "\n",
      "   radical_opinions    ...        N  network_type  no_of_neighbors  \\\n",
      "0             0.000    ...     1000             2                3   \n",
      "1             0.001    ...     1000             2                3   \n",
      "2             0.000    ...     1000             2                3   \n",
      "3             0.000    ...     1000             2                3   \n",
      "\n",
      "   beta_component  social_influence  swingers  echo_limit  all_majority  \\\n",
      "0            0.15              0.06         3        0.95         False   \n",
      "1            0.15              0.06         3        0.95         False   \n",
      "2            0.15              0.06         3        0.95         False   \n",
      "3            0.15              0.06         3        0.95         False   \n",
      "\n",
      "   similarity_treshold  opinions  \n",
      "0                 0.16         2  \n",
      "1                 0.16         2  \n",
      "2                 0.16         2  \n",
      "3                 0.16         2  \n",
      "\n",
      "[4 rows x 21 columns]\n"
     ]
    },
    {
     "name": "stderr",
     "output_type": "stream",
     "text": [
      "\n"
     ]
    }
   ],
   "source": [
    "from mesa.batchrunner import BatchRunner, BatchRunnerMP\n",
    "\n",
    "fixed_params = {\"N\": 1000,\n",
    "                \"network_type\": 2,\n",
    "                \"no_of_neighbors\": 3,\n",
    "                \"beta_component\": 0.15,\n",
    "                \"social_influence\": 0.06,\n",
    "                \"swingers\": 3,\n",
    "#                 \"malicious_N\":0,\n",
    "                \"echo_limit\":0.95,\n",
    "                \"all_majority\": False,\n",
    "                \"similarity_treshold\": 0.16,\n",
    "#                 \"malicious_N\": 0,\n",
    "                \"opinions\": 2,\n",
    "               }\n",
    "variable_params = {\"seed\": list(range(1, 31)),\n",
    "                \"malicious_N\":list(range(0, 6)),\n",
    "                  }\n",
    "\n",
    "batch_run = BatchRunnerMP(Network,\n",
    "                        iterations=30,\n",
    "                        max_steps=100,\n",
    "                        fixed_parameters=fixed_params,\n",
    "                        variable_parameters=variable_params,\n",
    "#                         model_reporters=model_reporters, \n",
    "                        nr_processes=4,\n",
    "                        model_reporters={                \n",
    "                            \"radical_opinions\": compute_radical_opinions,\n",
    "                            \"community_no\": community_no,\n",
    "#                             \"echo_chambers\": echo_no,\n",
    "                            \"majority_opinion\": compute_majority_opinions,\n",
    "                            \"silent_spiral\": compute_silent_spiral,\n",
    "                            \"compute_transitivity\":compute_transitivity,\n",
    "                            \"compute_echo_chamber\":compute_echo_chamber,\n",
    "                            \"echochamber_size\":echochamber_size,\n",
    "                            \"echochamber_count\":echochamber_count\n",
    "                        })\n",
    "batch_run.run_all()\n",
    "data = batch_run.get_model_vars_dataframe()\n",
    "\n",
    "#print data\n",
    "print(data)"
   ]
  },
  {
   "cell_type": "code",
   "execution_count": 6,
   "metadata": {},
   "outputs": [
    {
     "data": {
      "text/plain": [
       "[1, 2, 3, 4, 5, 6, 7, 8, 9]"
      ]
     },
     "execution_count": 6,
     "metadata": {},
     "output_type": "execute_result"
    }
   ],
   "source": [
    "list(range(1, 10))"
   ]
  },
  {
   "cell_type": "code",
   "execution_count": null,
   "metadata": {},
   "outputs": [],
   "source": []
  },
  {
   "cell_type": "code",
   "execution_count": null,
   "metadata": {},
   "outputs": [],
   "source": []
  },
  {
   "cell_type": "code",
   "execution_count": null,
   "metadata": {},
   "outputs": [],
   "source": []
  }
 ],
 "metadata": {
  "kernelspec": {
   "display_name": "Python 3",
   "language": "python",
   "name": "python3"
  },
  "language_info": {
   "codemirror_mode": {
    "name": "ipython",
    "version": 3
   },
   "file_extension": ".py",
   "mimetype": "text/x-python",
   "name": "python",
   "nbconvert_exporter": "python",
   "pygments_lexer": "ipython3",
   "version": "3.7.2"
  }
 },
 "nbformat": 4,
 "nbformat_minor": 2
}
