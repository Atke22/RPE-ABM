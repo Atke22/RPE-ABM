{
 "cells": [
  {
   "cell_type": "code",
   "execution_count": 1,
   "metadata": {},
   "outputs": [],
   "source": [
    "from model import *\n",
    "from agents import *\n",
    "from globals import *\n",
    "from server import *\n",
    "from schedule import *\n",
    "from utility import *\n",
    "from SALib.sample import saltelli\n",
    "from mesa.batchrunner import BatchRunner, BatchRunnerMP\n",
    "import pathos\n",
    "from SALib.analyze import sobol\n",
    "import pandas as pd\n",
    "import numpy as np\n",
    "import matplotlib.pyplot as plt\n",
    "from itertools import combinations\n",
    "from IPython.display import clear_output\n",
    "import time\n",
    "import multiprocessing as mp"
   ]
  },
  {
   "cell_type": "code",
   "execution_count": 14,
   "metadata": {},
   "outputs": [
    {
     "name": "stderr",
     "output_type": "stream",
     "text": [
      "20it [06:29, 32.80s/it]\n"
     ]
    }
   ],
   "source": [
    "fixed_params={\"no_of_neighbors\":3, \"network_type\":2, \"beta_component\":.3, \"similarity_treshold\":.025, \"social_influence\":0.01, \"swingers\":1, \"malicious_N\":1, \"echo_threshold\":0.25, \"all_majority\":False}\n",
    "variable_params={\"N\":range(50,1001,50)}\n",
    "model_reporters={\"Percentage A\":compute_opinions}\n",
    "\n",
    "batch = BatchRunnerMP(Network, \n",
    "                    max_steps=150,\n",
    "                    fixed_parameters=fixed_params,\n",
    "                    variable_parameters=variable_params,\n",
    "                    model_reporters=model_reporters, nr_processes=1)\n",
    "batch.run_all()"
   ]
  },
  {
   "cell_type": "code",
   "execution_count": 16,
   "metadata": {},
   "outputs": [
    {
     "data": {
      "image/png": "[encoded data removed]",
      "text/plain": [
       "<Figure size 432x288 with 1 Axes>"
      ]
     },
     "metadata": {
      "needs_background": "light"
     },
     "output_type": "display_data"
    }
   ],
   "source": [
    "run_data = pd.concat([run_data,batch.get_model_vars_dataframe()])\n",
    "plt.scatter(run_data.N, run_data['Percentage A'])\n",
    "plt.show()"
   ]
  },
  {
   "cell_type": "code",
   "execution_count": 35,
   "metadata": {},
   "outputs": [
    {
     "name": "stderr",
     "output_type": "stream",
     "text": [
      "50it [35:53, 42.63s/it]\n"
     ]
    }
   ],
   "source": [
    "fixed_params={\"N\":1000,\"no_of_neighbors\":3, \"network_type\":2, \"beta_component\":.3, \"similarity_treshold\":.025, \"swingers\":1, \"malicious_N\":1, \"echo_threshold\":0.25, \"all_majority\":False}\n",
    "variable_params={\"social_influence\":np.linspace(0.01,0.1,50)}\n",
    "model_reporters={\"Percentage A\":compute_opinions}\n",
    "\n",
    "batch_social = BatchRunnerMP(Network, \n",
    "                    max_steps=150,\n",
    "                    fixed_parameters=fixed_params,\n",
    "                    variable_parameters=variable_params,\n",
    "                    model_reporters=model_reporters, nr_processes=1)\n",
    "batch_social.run_all()"
   ]
  },
  {
   "cell_type": "code",
   "execution_count": 36,
   "metadata": {},
   "outputs": [
    {
     "data": {
      "image/png": "[encoded data removed]",
      "text/plain": [
       "<Figure size 432x288 with 1 Axes>"
      ]
     },
     "metadata": {
      "needs_background": "light"
     },
     "output_type": "display_data"
    }
   ],
   "source": [
    "run_data_social = pd.concat([run_data_social,batch_social.get_model_vars_dataframe()])\n",
    "plt.scatter(run_data_social.social_influence, run_data_social['Percentage A'])\n",
    "plt.xlabel('Social influence')\n",
    "plt.ylabel('Preference for A')\n",
    "plt.show()"
   ]
  },
  {
   "cell_type": "code",
   "execution_count": 37,
   "metadata": {},
   "outputs": [
    {
     "data": {
      "text/plain": [
       "(0.22537335597679695, 0.08338706371804858)"
      ]
     },
     "execution_count": 37,
     "metadata": {},
     "output_type": "execute_result"
    }
   ],
   "source": [
    "import scipy.stats as sts\n",
    "sts.pearsonr(run_data_social.social_influence, run_data_social['Percentage A'])"
   ]
  }
 ],
 "metadata": {
  "kernelspec": {
   "display_name": "Python 3",
   "language": "python",
   "name": "python3"
  },
  "language_info": {
   "codemirror_mode": {
    "name": "ipython",
    "version": 3
   },
   "file_extension": ".py",
   "mimetype": "text/x-python",
   "name": "python",
   "nbconvert_exporter": "python",
   "pygments_lexer": "ipython3",
   "version": "3.7.1"
  }
 },
 "nbformat": 4,
 "nbformat_minor": 2
}
